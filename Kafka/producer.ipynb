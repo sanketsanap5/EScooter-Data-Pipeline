{
 "cells": [
  {
   "cell_type": "code",
   "execution_count": 75,
   "metadata": {},
   "outputs": [],
   "source": [
    "from confluent_kafka import Producer\n",
    "\n",
    "from faker import Faker\n",
    "import pandas as pd\n"
   ]
  },
  {
   "cell_type": "code",
   "execution_count": 45,
   "metadata": {},
   "outputs": [
    {
     "data": {
      "text/plain": [
       "{'dataEngineering': TopicMetadata(dataEngineering, 1 partitions)}"
      ]
     },
     "execution_count": 45,
     "metadata": {},
     "output_type": "execute_result"
    }
   ],
   "source": [
    "p = Producer({\n",
    "    'bootstrap.servers':'localhost:9092,localhost:9093,localhost:9094',\n",
    "    })\n",
    "p.list_topics().topics"
   ]
  },
  {
   "cell_type": "code",
   "execution_count": 59,
   "metadata": {},
   "outputs": [],
   "source": [
    "def receipt(err,msg):\n",
    "    if err is not None:\n",
    "        print('Error: {}'.format(err))\n",
    "    else:\n",
    "        print('Message: {}'.format(msg.value()))     \n"
   ]
  },
  {
   "cell_type": "code",
   "execution_count": 96,
   "metadata": {},
   "outputs": [],
   "source": [
    "fake = Faker()\n",
    "name = []\n",
    "id = []\n",
    "street = []\n",
    "city = []\n",
    "zip = []\n",
    "for i in range(5):\n",
    "    name.append(fake.name())\n",
    "    id.append(i)\n",
    "    street.append(fake.street_address())\n",
    "    city.append(fake.city())\n",
    "    zip.append(fake.zipcode())\n"
   ]
  },
  {
   "cell_type": "code",
   "execution_count": null,
   "metadata": {},
   "outputs": [],
   "source": [
    "df = pd.DataFrame({'name':name,'id':id,'street':street,'city':city,'zip':zip})\n",
    "p.poll(0)\n",
    "p.produce('dataEngineering',df.to_json(),callback=receipt)\n",
    "p.flush()"
   ]
  },
  {
   "cell_type": "code",
   "execution_count": null,
   "metadata": {},
   "outputs": [],
   "source": []
  },
  {
   "cell_type": "code",
   "execution_count": null,
   "metadata": {},
   "outputs": [],
   "source": []
  }
 ],
 "metadata": {
  "interpreter": {
   "hash": "7497c63ff532d7aa56218976ab1aba6ca4f66652e5b564389743121bf3873fe1"
  },
  "kernelspec": {
   "display_name": "Python 3.9.7 64-bit ('base': conda)",
   "language": "python",
   "name": "python3"
  },
  "language_info": {
   "codemirror_mode": {
    "name": "ipython",
    "version": 3
   },
   "file_extension": ".py",
   "mimetype": "text/x-python",
   "name": "python",
   "nbconvert_exporter": "python",
   "pygments_lexer": "ipython3",
   "version": "3.9.7"
  },
  "orig_nbformat": 4
 },
 "nbformat": 4,
 "nbformat_minor": 2
}
