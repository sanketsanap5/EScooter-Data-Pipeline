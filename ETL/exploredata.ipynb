{
 "cells": [
  {
   "cell_type": "code",
   "execution_count": 2,
   "metadata": {},
   "outputs": [],
   "source": [
    "import pandas as pd"
   ]
  },
  {
   "cell_type": "code",
   "execution_count": 11,
   "metadata": {},
   "outputs": [],
   "source": [
    "df = pd.read_csv(\"/Users/Sanket/Documents/GitHub/Real-Time-Data-Pipeline/dataset/scooter.csv\")"
   ]
  },
  {
   "cell_type": "code",
   "execution_count": null,
   "metadata": {},
   "outputs": [],
   "source": [
    "df.sample(5)"
   ]
  },
  {
   "cell_type": "code",
   "execution_count": null,
   "metadata": {},
   "outputs": [],
   "source": [
    "#Exploratery data analysis - EDA\n",
    "df.describe()\n",
    "df['month'].value_counts()\n",
    "df['DURATION'].value_counts(dropna=False)*100"
   ]
  },
  {
   "cell_type": "code",
   "execution_count": 5,
   "metadata": {},
   "outputs": [
    {
     "data": {
      "text/html": [
       "<div>\n",
       "<style scoped>\n",
       "    .dataframe tbody tr th:only-of-type {\n",
       "        vertical-align: middle;\n",
       "    }\n",
       "\n",
       "    .dataframe tbody tr th {\n",
       "        vertical-align: top;\n",
       "    }\n",
       "\n",
       "    .dataframe thead th {\n",
       "        text-align: right;\n",
       "    }\n",
       "</style>\n",
       "<table border=\"1\" class=\"dataframe\">\n",
       "  <thead>\n",
       "    <tr style=\"text-align: right;\">\n",
       "      <th></th>\n",
       "      <th>month</th>\n",
       "      <th>trip_id</th>\n",
       "      <th>region_id</th>\n",
       "      <th>vehicle_id</th>\n",
       "      <th>started_at</th>\n",
       "      <th>ended_at</th>\n",
       "      <th>duration</th>\n",
       "      <th>start_location_name</th>\n",
       "      <th>end_location_name</th>\n",
       "      <th>user_id</th>\n",
       "      <th>trip_ledger_id</th>\n",
       "    </tr>\n",
       "  </thead>\n",
       "  <tbody>\n",
       "  </tbody>\n",
       "</table>\n",
       "</div>"
      ],
      "text/plain": [
       "Empty DataFrame\n",
       "Columns: [month, trip_id, region_id, vehicle_id, started_at, ended_at, duration, start_location_name, end_location_name, user_id, trip_ledger_id]\n",
       "Index: []"
      ]
     },
     "execution_count": 5,
     "metadata": {},
     "output_type": "execute_result"
    }
   ],
   "source": [
    "#Droping/Filling rows/columns\n",
    "df.isnull().sum()\n",
    "df.columns = [x.lower() for x in df.columns]\n",
    "startValues = {'start_location_name':'Start'}\n",
    "endValues = {'end_location_name':'End'}\n",
    "newdf=df[df['start_location_name'].isnull()].fillna(value=startValues)\n",
    "df.loc[newdf.index] = newdf\n",
    "newdf=df[df['end_location_name'].isnull()].fillna(value=endValues)\n",
    "df.loc[newdf.index] = newdf\n",
    "df[df['end_location_name'].isnull()]\n",
    "df[df['start_location_name'].isnull()]\n",
    "newdf = df[df['duration'].isnull()].fillna(value=\"00:00:00\")\n",
    "df.loc[newdf.index] = newdf\n",
    "df[df['duration'].isnull()]"
   ]
  },
  {
   "cell_type": "code",
   "execution_count": null,
   "metadata": {},
   "outputs": [],
   "source": [
    "#Creating/Modifying Columns\n",
    "df.columns = [x.lower() for x in df.columns]\n",
    "df.rename(columns={'DURATION':'duration'},inplace=True)\n",
    "#df.loc[df['trip_id']==1613335,'newcol']='True'\n",
    "#df[['trip_id','newcol']].head()\n",
    "newdf=df['started_at'].head()\n",
    "newdf.str.split(expand=True)\n",
    "df.head()"
   ]
  },
  {
   "cell_type": "code",
   "execution_count": null,
   "metadata": {},
   "outputs": [],
   "source": [
    "\n",
    "df['started_at'] = pd.to_datetime(df['started_at'],format='%m/%d/%Y %H:%M')\n",
    "df['ended_at'] = pd.to_datetime(df['ended_at'],format='%m/%d/%Y %H:%M')\n",
    "df.dtypes"
   ]
  },
  {
   "cell_type": "code",
   "execution_count": null,
   "metadata": {},
   "outputs": [],
   "source": [
    "df.isnull().sum()\n",
    "df.sample(10)\n",
    "mayData = df[df.month=='August']\n",
    "mayData\n",
    "df.drop(columns='region_id',inplace=True)\n",
    "df"
   ]
  }
 ],
 "metadata": {
  "interpreter": {
   "hash": "7497c63ff532d7aa56218976ab1aba6ca4f66652e5b564389743121bf3873fe1"
  },
  "kernelspec": {
   "display_name": "Python 3.9.7 64-bit ('base': conda)",
   "language": "python",
   "name": "python3"
  },
  "language_info": {
   "codemirror_mode": {
    "name": "ipython",
    "version": 3
   },
   "file_extension": ".py",
   "mimetype": "text/x-python",
   "name": "python",
   "nbconvert_exporter": "python",
   "pygments_lexer": "ipython3",
   "version": "3.9.7"
  },
  "orig_nbformat": 4
 },
 "nbformat": 4,
 "nbformat_minor": 2
}
