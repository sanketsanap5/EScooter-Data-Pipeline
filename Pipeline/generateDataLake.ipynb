{
 "cells": [
  {
   "cell_type": "code",
   "execution_count": 42,
   "metadata": {},
   "outputs": [],
   "source": [
    "import pandas as pd\n",
    "import os\n",
    "from faker import Faker\n",
    "import psycopg2 as db\n",
    "\n",
    "baseDir = '/Users/Sanket/Documents/GitHub/Real-Time-Data-Pipeline'\n",
    "userDataDir = baseDir + '/output/userData/'\n",
    "fake = Faker()"
   ]
  },
  {
   "cell_type": "code",
   "execution_count": 160,
   "metadata": {},
   "outputs": [],
   "source": [
    "if not os.path.exists(userDataDir):\n",
    "    os.mkdir(userDataDir)\n",
    "for i in range(1,10001):\n",
    "    data = {\n",
    "        'name':fake.name(),\n",
    "        'id':i,\n",
    "        'street':fake.street_address(),\n",
    "        'city':fake.city(),\n",
    "        'zip':fake.zipcode(),\n",
    "    }\n",
    "    df = pd.DataFrame([data])\n",
    "    df.to_json(userDataDir+str(data['id'])+'.json')"
   ]
  },
  {
   "cell_type": "code",
   "execution_count": null,
   "metadata": {},
   "outputs": [],
   "source": [
    "userDF = pd.DataFrame()\n",
    "\n",
    "fileNames = [x for x in os.listdir(userDataDir) if x.endswith('.json')]\n",
    "for name in fileNames:\n",
    "    df = pd.read_json(userDataDir+name)\n",
    "    userDF = userDF.append(other=df,ignore_index=True)\n",
    "print('Found {} Records In Data Lake '.format(userDF.id.count()))\n"
   ]
  },
  {
   "cell_type": "code",
   "execution_count": 43,
   "metadata": {},
   "outputs": [],
   "source": [
    "\n",
    "conn_string = \"dbname='test' host='localhost' user='postgres' password='postgres'\"\n",
    "try:\n",
    "    conn = db.connect(conn_string)\n",
    "    cur = conn.cursor()\n",
    "    query = \"insert into users (name,id,street,city,zip) values(%s,%s,%s,%s,%s)\"\n",
    "    #print(cur.mogrify(query,tuple(userDF.values)))\n",
    "    #cur.executemany(query,userDF.values)\n",
    "    #print(conn.commit())\n",
    "except Exception as e:\n",
    "    print(str(e))"
   ]
  },
  {
   "cell_type": "code",
   "execution_count": null,
   "metadata": {},
   "outputs": [],
   "source": [
    "pd.read_sql('select count(*) from users;',conn)"
   ]
  },
  {
   "cell_type": "code",
   "execution_count": 167,
   "metadata": {},
   "outputs": [],
   "source": [
    "cur.execute('truncate table users;')\n",
    "conn.commit()"
   ]
  },
  {
   "cell_type": "code",
   "execution_count": null,
   "metadata": {},
   "outputs": [],
   "source": [
    "userDF.id.count()\n",
    "print('Found {} Records In Data Lake '.format(userDF.id.count()))\n",
    "print('Inserting {} Records In Staging DB'.format(userDF.id.count()))\n"
   ]
  },
  {
   "cell_type": "code",
   "execution_count": null,
   "metadata": {},
   "outputs": [],
   "source": [
    "#conn.rollback()\n",
    "userDF[userDF['id']==3721]\n",
    "\n"
   ]
  },
  {
   "cell_type": "code",
   "execution_count": 171,
   "metadata": {},
   "outputs": [],
   "source": [
    "userDF.drop(5620,inplace=True)"
   ]
  },
  {
   "cell_type": "code",
   "execution_count": 12,
   "metadata": {},
   "outputs": [],
   "source": [
    "fileNames = [x for x in os.listdir(userDataDir) if x.endswith('.json')]\n",
    "for name in fileNames:\n",
    "    if os.path.exists(userDataDir+name):\n",
    "        os.remove(userDataDir+name)\n",
    "\n",
    "\n"
   ]
  },
  {
   "cell_type": "code",
   "execution_count": 24,
   "metadata": {},
   "outputs": [],
   "source": [
    "scooterDF = pd.read_csv(baseDir+'/dataset/scooter.csv')"
   ]
  },
  {
   "cell_type": "code",
   "execution_count": 35,
   "metadata": {},
   "outputs": [],
   "source": [
    "\n",
    "conn_string = \"dbname='test' host='localhost' user='postgres' password='postgres'\"\n",
    "try:\n",
    "    conn = db.connect(conn_string)\n",
    "    cur = conn.cursor()\n",
    "    query = \"insert into escooter (month,trip_id,region_id,vehicle_id,started_at,ended_at,  \\\n",
    "        duration,start_location_name,end_location_name,user_id,trip_ledger_id)  \\\n",
    "        values(%s,%s,%s,%s,%s,%s,%s,%s,%s,%s,%s)\"\n",
    "    #print(cur.mogrify(query,tuple(userDF.values)))\n",
    "    cur.executemany(query,tuple(scooterDF.values))\n",
    "    conn.commit()\n",
    "except Exception as e:\n",
    "    print(str(e))"
   ]
  },
  {
   "cell_type": "code",
   "execution_count": null,
   "metadata": {},
   "outputs": [],
   "source": [
    "pd.read_sql('select count(*) from escooter;',conn)"
   ]
  },
  {
   "cell_type": "code",
   "execution_count": 37,
   "metadata": {},
   "outputs": [],
   "source": [
    "cur.execute('truncate table escooter')\n",
    "conn.commit()"
   ]
  },
  {
   "cell_type": "code",
   "execution_count": 46,
   "metadata": {},
   "outputs": [],
   "source": [
    "conn.rollback()"
   ]
  }
 ],
 "metadata": {
  "interpreter": {
   "hash": "7497c63ff532d7aa56218976ab1aba6ca4f66652e5b564389743121bf3873fe1"
  },
  "kernelspec": {
   "display_name": "Python 3.9.7 64-bit ('base': conda)",
   "language": "python",
   "name": "python3"
  },
  "language_info": {
   "codemirror_mode": {
    "name": "ipython",
    "version": 3
   },
   "file_extension": ".py",
   "mimetype": "text/x-python",
   "name": "python",
   "nbconvert_exporter": "python",
   "pygments_lexer": "ipython3",
   "version": "3.9.7"
  },
  "orig_nbformat": 4
 },
 "nbformat": 4,
 "nbformat_minor": 2
}
