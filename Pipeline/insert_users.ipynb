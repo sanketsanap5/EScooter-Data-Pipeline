{
 "cells": [
  {
   "cell_type": "code",
   "execution_count": 2,
   "metadata": {},
   "outputs": [],
   "source": [
    "import psycopg2 as db\n",
    "from elasticsearch import Elasticsearch\n",
    "from elasticsearch import helpers\n",
    "import pandas as pd\n",
    "from pandas import json_normalize\n",
    "from faker import Faker\n"
   ]
  },
  {
   "cell_type": "code",
   "execution_count": 3,
   "metadata": {},
   "outputs": [],
   "source": [
    "#connection\n",
    "conn_string = \"dbname='test' host='localhost' user='postgres' password='postgres'\"\n",
    "conn = db.connect(conn_string)\n",
    "cur = conn.cursor()\n",
    "fake = Faker()"
   ]
  },
  {
   "cell_type": "code",
   "execution_count": 37,
   "metadata": {},
   "outputs": [],
   "source": [
    "#Inserting 1000 users into Posrgres SQL\n",
    "data=[]\n",
    "i=2\n",
    "for r in range(1000):\n",
    "    data.append((fake.name(),i,fake.street_address(),fake.city(),fake.zipcode()))\n",
    "    i+=1\n",
    "fakerData = tuple(data)\n",
    "query = \"insert into users (name,id,street,city,zip) values(%s,%s,%s,%s,%s)\"\n",
    "#print(cur.mogrify(query,fakerData[1]))\n",
    "#cur.executemany(query,fakerData)\n",
    "#conn.commit()"
   ]
  },
  {
   "cell_type": "code",
   "execution_count": 4,
   "metadata": {},
   "outputs": [],
   "source": [
    "#Extracting in DataFrame\n",
    "query2 = \"select * from users\"\n",
    "df= pd.read_sql(query2,conn)\n",
    "#df.to_json(orient='records')"
   ]
  },
  {
   "cell_type": "code",
   "execution_count": null,
   "metadata": {},
   "outputs": [],
   "source": [
    "#Insertng single user into Elastic Search - NoSQL\n",
    "#es.__version__\n",
    "\n",
    "es = Elasticsearch()\n",
    "doc = {\n",
    "    \"name\":\"sanket\",\n",
    "    \"id\":1,\n",
    "    \"street\":\"67 St Germain Street\",\n",
    "    \"city\":\"Boston\",\n",
    "    \"zip\":\"02115\"\n",
    "}\n",
    "\n",
    "result = es.index(index=\"users\",document=doc)\n",
    "print(result)"
   ]
  },
  {
   "cell_type": "code",
   "execution_count": 7,
   "metadata": {},
   "outputs": [
    {
     "name": "stdout",
     "output_type": "stream",
     "text": [
      "(1000, [])\n"
     ]
    }
   ],
   "source": [
    "#Inserting 1000 users into Elasticsearch\n",
    "\n",
    "dataSource=[\n",
    "    {\n",
    "        \"_index\":\"users\",\n",
    "        \"_source\":{\n",
    "            \"name\":fake.name(),\n",
    "            \"id\":x,\n",
    "            \"street\":fake.street_address(),\n",
    "            \"city\":fake.city(),\n",
    "            \"zip\":fake.zipcode()\n",
    "        }\n",
    "    }\n",
    "    for x in range(1000)\n",
    "]\n",
    "es = Elasticsearch()\n",
    "result = helpers.bulk(es,df.values)\n",
    "print(result)"
   ]
  },
  {
   "cell_type": "code",
   "execution_count": 100,
   "metadata": {},
   "outputs": [
    {
     "name": "stderr",
     "output_type": "stream",
     "text": [
      "/var/folders/jl/0hp406v12rn91f04k5hcw9qm0000gn/T/ipykernel_3909/3701477683.py:7: DeprecationWarning: The 'body' parameter is deprecated for the 'search' API and will be removed in a future version. Instead use API parameters directly. See https://github.com/elastic/elasticsearch-py/issues/1698 for more information\n",
      "  res = es.search(index=\"users\",body=doc,size=1)\n"
     ]
    },
    {
     "data": {
      "text/plain": [
       "array([ True])"
      ]
     },
     "execution_count": 100,
     "metadata": {},
     "output_type": "execute_result"
    }
   ],
   "source": [
    "#fetching all documents\n",
    "doc = {\n",
    "    \"query\":{\n",
    "        \"match_all\":{}\n",
    "    }\n",
    "}\n",
    "res = es.search(index=\"users\",body=doc,size=1)\n",
    "#print(res['hits']['hits'])\n",
    "#Loading in DataFrame\n",
    "df = json_normalize(res['hits']['hits'])\n",
    "df['_source.id'].value_counts().values==1\n"
   ]
  },
  {
   "cell_type": "code",
   "execution_count": null,
   "metadata": {},
   "outputs": [],
   "source": [
    "#Searching by query\n",
    "doc = {\n",
    "    \"query\":{\n",
    "        \"match\":{\n",
    "            \"name\":\"sanket\"\n",
    "        }\n",
    "    }\n",
    "}\n",
    "res = es.search(index=\"users\",body=doc,size=10)\n",
    "#print(res['hits']['hits'])\n",
    "df = json_normalize(res['hits']['hits'])\n",
    "df"
   ]
  },
  {
   "cell_type": "code",
   "execution_count": null,
   "metadata": {},
   "outputs": [],
   "source": [
    "#searching by Lucene sytax\n",
    "res = es.search(index=\"users\",q=\"name:sanket\",size=10)\n",
    "df = json_normalize(res['hits']['hits'])\n",
    "df"
   ]
  },
  {
   "cell_type": "code",
   "execution_count": null,
   "metadata": {},
   "outputs": [],
   "source": []
  },
  {
   "cell_type": "code",
   "execution_count": null,
   "metadata": {},
   "outputs": [],
   "source": []
  }
 ],
 "metadata": {
  "interpreter": {
   "hash": "7497c63ff532d7aa56218976ab1aba6ca4f66652e5b564389743121bf3873fe1"
  },
  "kernelspec": {
   "display_name": "Python 3.9.7 64-bit ('base': conda)",
   "language": "python",
   "name": "python3"
  },
  "language_info": {
   "codemirror_mode": {
    "name": "ipython",
    "version": 3
   },
   "file_extension": ".py",
   "mimetype": "text/x-python",
   "name": "python",
   "nbconvert_exporter": "python",
   "pygments_lexer": "ipython3",
   "version": "3.9.7"
  },
  "orig_nbformat": 4
 },
 "nbformat": 4,
 "nbformat_minor": 2
}
