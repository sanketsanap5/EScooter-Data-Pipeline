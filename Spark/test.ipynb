{
 "cells": [
  {
   "cell_type": "code",
   "execution_count": 8,
   "metadata": {},
   "outputs": [],
   "source": [
    "import findspark\n",
    "findspark.init()"
   ]
  },
  {
   "cell_type": "code",
   "execution_count": 9,
   "metadata": {},
   "outputs": [],
   "source": [
    "import pyspark\n",
    "from datetime import datetime\n",
    "from pyspark.sql.types import *\n",
    "from pyspark.sql.functions import *\n",
    "from pyspark.sql import SparkSession\n",
    "import random"
   ]
  },
  {
   "cell_type": "code",
   "execution_count": null,
   "metadata": {},
   "outputs": [],
   "source": [
    "spark = SparkSession.builder.master('spark://Sankets-MacBook-Air.local:7077').appName('Pi-Estimation').getOrCreate()\n",
    "\n",
    "NUM_SAMPLES=1\n",
    "def inside(p):\n",
    "    x, y = random.random(), random.random()\n",
    "    return x*x + y*y <1\n",
    "\n",
    "count = spark.sparkContext.parallelize(range(0,NUM_SAMPLES)).filter(inside).count()\n",
    "print('Pi is roughly {}'.format(4.0*count/NUM_SAMPLES))\n",
    "spark.stop()"
   ]
  },
  {
   "cell_type": "code",
   "execution_count": null,
   "metadata": {},
   "outputs": [],
   "source": [
    "spark = SparkSession.builder.master('spark://Sankets-MacBook-Air.local:7077').appName('DataFrame-CSV').getOrCreate()\n",
    "\n",
    "df = spark.read.csv('/Users/Sanket/Documents/GitHub/Real-Time-Data-Pipeline/output/monthlyData/JulyScooterData.csv')\n",
    "print(df.show(10))\n",
    "spark.stop()"
   ]
  },
  {
   "cell_type": "code",
   "execution_count": 72,
   "metadata": {},
   "outputs": [
    {
     "name": "stderr",
     "output_type": "stream",
     "text": [
      "                                                                                \r"
     ]
    }
   ],
   "source": [
    "spark = SparkSession.builder.master('spark://Sankets-MacBook-Air.local:7077').appName('DataFrame-SQL').getOrCreate()\n",
    "\n",
    "df = spark.read.csv('/Users/Sanket/Documents/GitHub/Real-Time-Data-Pipeline/dataset/scooter.csv',header=True)"
   ]
  },
  {
   "cell_type": "code",
   "execution_count": 73,
   "metadata": {},
   "outputs": [],
   "source": [
    "df= df.withColumnRenamed(existing='DURATION',new='duration')\n",
    "\n",
    "def user_defined_timestamp(date_col):\n",
    "    _date = datetime.strptime(date_col,'%m/%d/%Y %H:%M')\n",
    "    return _date.strftime('%Y-%m-%d %H:%M')\n",
    "\n",
    "def user_defined_time(time):\n",
    "    _date = datetime.strptime(time,'%H:%M:%S')\n",
    "    return _date.strftime('%H:%M:%S')\n",
    "\n",
    "convertTimestamp = udf(user_defined_timestamp, StringType())\n",
    "convertTimeForamt = udf(user_defined_time, StringType())\n",
    "\n",
    "df = df.withColumn('started_at',convertTimestamp(df.started_at))    \\\n",
    "        .withColumn('ended_at',convertTimestamp(df.ended_at))    \\\n",
    "        .withColumn('duration',convertTimeForamt(df.duration))\n",
    "\n",
    "df.createOrReplaceTempView('scooter')"
   ]
  },
  {
   "cell_type": "code",
   "execution_count": 9,
   "metadata": {},
   "outputs": [],
   "source": [
    "\n",
    "df = spark.sql('select * from scooter')\n",
    "\n",
    "df_May= spark.sql('select month, INT(trip_id), INT(region_id), INT(vehicle_id), started_at, ended_at, duration, \\\n",
    "                start_location_name, end_location_name, INT(user_id), INT(trip_ledger_id) from scooter')\n",
    "\n",
    "#df_May = df_May.withColumn('started_at',date_format('started_at','yyyy-mm-dd HH:MM')) \\\n",
    "#        .withColumn('ended_at',date_format('ended_at','yyyy-mm-dd HH:MM'))\n",
    "\n",
    "df_May = df_May.withColumn('started_at',df.started_at.cast(TimestampType())) \\\n",
    "        .withColumn('ended_at',df.ended_at.cast(TimestampType())) "
   ]
  },
  {
   "cell_type": "code",
   "execution_count": null,
   "metadata": {},
   "outputs": [],
   "source": [
    "#df_May.filter(df_May.started_at.isNotNull()).select('*').show()\n",
    "df_May.groupBy(df_May.start_location_name).count().show()\n",
    "df_May.groupBy(df_May.vehicle_id).count().show()\n"
   ]
  },
  {
   "cell_type": "code",
   "execution_count": null,
   "metadata": {},
   "outputs": [],
   "source": [
    "df_May.groupBy(df_May.user_id).count().show()"
   ]
  },
  {
   "cell_type": "code",
   "execution_count": null,
   "metadata": {},
   "outputs": [],
   "source": [
    "\n",
    "df_May.show(4)"
   ]
  },
  {
   "cell_type": "code",
   "execution_count": 38,
   "metadata": {},
   "outputs": [
    {
     "data": {
      "text/plain": [
       "'00:07:03'"
      ]
     },
     "execution_count": 38,
     "metadata": {},
     "output_type": "execute_result"
    }
   ],
   "source": [
    "newd= datetime.strptime('0:07:03','%H:%M:%S')\n",
    "#df_May.select(date_format('started_at','ddMMyyyy ')).show()\n",
    "newd.strftime('%H:%M:%S')"
   ]
  },
  {
   "cell_type": "code",
   "execution_count": 10,
   "metadata": {},
   "outputs": [],
   "source": [
    "spark = SparkSession.builder.master('spark://Sankets-MacBook-Air.local:7077').appName('DataFrame-SQL').getOrCreate()"
   ]
  },
  {
   "cell_type": "code",
   "execution_count": 11,
   "metadata": {},
   "outputs": [],
   "source": [
    "spark = SparkSession \\\n",
    "    .builder \\\n",
    "    .master('spark://Sankets-MacBook-Air.local:7077') \\\n",
    "    .appName(\"Spark-Postgres\") \\\n",
    "    .config(\"spark.jars\", \"/Users/Sanket/nifi-1.15.2/drivers/postgresql-42.3.1.jar\") \\\n",
    "    .getOrCreate()"
   ]
  },
  {
   "cell_type": "code",
   "execution_count": null,
   "metadata": {},
   "outputs": [],
   "source": [
    "df = spark.read \\\n",
    "    .format(\"jdbc\") \\\n",
    "    .option(\"url\", \"jdbc:postgresql://localhost:5432/test\") \\\n",
    "    .option(\"dbtable\", \"escooter\") \\\n",
    "    .option(\"user\", \"postgres\") \\\n",
    "    .option(\"password\", \"postgres\") \\\n",
    "    .option(\"driver\", \"org.postgresql.Driver\") \\\n",
    "    .load()"
   ]
  },
  {
   "cell_type": "code",
   "execution_count": null,
   "metadata": {},
   "outputs": [],
   "source": [
    "df.printSchema()"
   ]
  },
  {
   "cell_type": "code",
   "execution_count": 62,
   "metadata": {},
   "outputs": [],
   "source": [
    "def user_defined_timestamp(date_col):\n",
    "    _date = datetime.strptime(date_col,'%m/%d/%Y %H:%M')\n",
    "    return _date.strftime('%Y-%m-%d %H:%M')\n",
    "\n",
    "\n",
    "convertTimestamp = udf(user_defined_timestamp, StringType())\n",
    "\n",
    "df = df.withColumn('started_at',convertTimestamp(df.started_at))    \\\n",
    "        .withColumn('ended_at',convertTimestamp(df.ended_at))    \\\n",
    "\n",
    "#df.createOrReplaceTempView('scooter')"
   ]
  },
  {
   "cell_type": "code",
   "execution_count": null,
   "metadata": {},
   "outputs": [],
   "source": [
    "df = df.drop('region_id')\n",
    "df.show(1)\n",
    "df_May = df.filter(df.month == \"May\")\n",
    "df_June = df.filter(df.month == \"June\")\n",
    "df_July = df.filter(df.month == \"July\")\n",
    "print(df_May.count())\n",
    "print(df_June.count())\n",
    "print(df_July.count())\n",
    "pdJuly= df_July.toPandas()\n",
    "pdJuly\n",
    "\n",
    "#pdJuly[pdJuly.end_location_name.isnull()]\n"
   ]
  },
  {
   "cell_type": "code",
   "execution_count": null,
   "metadata": {},
   "outputs": [],
   "source": [
    "address_Arr = split(df.start_location_name,',')\n",
    "zipCode = split(regexp_extract(df.start_location_name, \"(NM \\\\d{5})\" ,1 ),' ')\n",
    "df = df.withColumn('start_street',address_Arr.getItem(0))\n",
    "df = df.withColumn('start_zip',zipCode.getItem(1))\n",
    "\n",
    "endaddress_Arr = split(df.end_location_name,',')\n",
    "endzipCode = split(regexp_extract(df.end_location_name, \"(NM \\\\d{5})\" ,1 ),' ')\n",
    "#if endaddress_Arr.getItem(0):\n",
    "#  print('yes')\n",
    "df = df.withColumn('end_street',endaddress_Arr.getItem(0))\n",
    "df = df.withColumn('end_zip',endzipCode.getItem(1))\n",
    "\n",
    "#df.show(1)\n",
    "df.filter('start_zip is null or end_zip is null').count()\n",
    "df = df.fillna(value=\"Unknown\",subset=['start_zip','end_zip','start_street','end_street'])\n",
    "\n",
    "df.filter('start_zip is null or end_zip is null').count()\n",
    "df = df.withColumn('start_zip',df.started_at.cast(StringType())) \\\n",
    "        .withColumn('end_zip',df.ended_at.cast(StringType())) \n",
    "df.printSchema()"
   ]
  },
  {
   "cell_type": "code",
   "execution_count": 68,
   "metadata": {},
   "outputs": [
    {
     "data": {
      "text/plain": [
       "2072"
      ]
     },
     "execution_count": 68,
     "metadata": {},
     "output_type": "execute_result"
    }
   ],
   "source": [
    "r = df.filter(df.start_zip != df.end_zip).count()\n",
    "#id = df.filter('start_zip is null or end_zip is null').select('trip_id')\n"
   ]
  },
  {
   "cell_type": "code",
   "execution_count": null,
   "metadata": {},
   "outputs": [],
   "source": [
    "data = [(\"James, A, Smith\",\"2018\",\"M\",3000),\n",
    "            (\"Michael, Rose, Jones\",\"2010\",\"M\",4000),\n",
    "            (\"Robert,K,Williams\",\"2010\",\"M\",4000),\n",
    "            (\"Maria,Anne,Jones\",\"2005\",\"F\",4000),\n",
    "            (\"Jen,Mary,Brown\",\"2010\",\"\",-1)\n",
    "            ]\n",
    "\n",
    "columns=[\"name\",\"dob_year\",\"gender\",\"salary\"]\n",
    "df=spark.createDataFrame(data,columns)\n",
    "df.printSchema()\n",
    "df.show()\n",
    "df2 = df.select(split(col(\"name\"),\",\").alias(\"NameArray\")) \\\n",
    "    .drop(\"name\")\n",
    "df2.printSchema()\n",
    "df2.show()"
   ]
  },
  {
   "cell_type": "code",
   "execution_count": null,
   "metadata": {},
   "outputs": [],
   "source": []
  },
  {
   "cell_type": "code",
   "execution_count": 71,
   "metadata": {},
   "outputs": [],
   "source": [
    "spark.stop()"
   ]
  }
 ],
 "metadata": {
  "interpreter": {
   "hash": "7497c63ff532d7aa56218976ab1aba6ca4f66652e5b564389743121bf3873fe1"
  },
  "kernelspec": {
   "display_name": "Python 3.9.7 64-bit ('base': conda)",
   "language": "python",
   "name": "python3"
  },
  "language_info": {
   "codemirror_mode": {
    "name": "ipython",
    "version": 3
   },
   "file_extension": ".py",
   "mimetype": "text/x-python",
   "name": "python",
   "nbconvert_exporter": "python",
   "pygments_lexer": "ipython3",
   "version": "3.9.7"
  },
  "orig_nbformat": 4
 },
 "nbformat": 4,
 "nbformat_minor": 2
}
