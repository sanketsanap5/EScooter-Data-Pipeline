{
 "cells": [
  {
   "cell_type": "code",
   "execution_count": 75,
   "metadata": {},
   "outputs": [],
   "source": [
    "from confluent_kafka import Producer\n",
    "from confluent_kafka import Consumer\n",
    "from faker import Faker\n",
    "import pandas as pd\n"
   ]
  },
  {
   "cell_type": "code",
   "execution_count": 45,
   "metadata": {},
   "outputs": [
    {
     "data": {
      "text/plain": [
       "{'dataEngineering': TopicMetadata(dataEngineering, 1 partitions)}"
      ]
     },
     "execution_count": 45,
     "metadata": {},
     "output_type": "execute_result"
    }
   ],
   "source": [
    "p = Producer({\n",
    "    'bootstrap.servers':'localhost:9092,localhost:9093,localhost:9094',\n",
    "    })\n",
    "p.list_topics().topics"
   ]
  },
  {
   "cell_type": "code",
   "execution_count": 59,
   "metadata": {},
   "outputs": [],
   "source": [
    "def receipt(err,msg):\n",
    "    if err is not None:\n",
    "        print('Error: {}'.format(err))\n",
    "    else:\n",
    "        print('Message: {}'.format(msg.value()))     \n"
   ]
  },
  {
   "cell_type": "code",
   "execution_count": 62,
   "metadata": {},
   "outputs": [],
   "source": [
    "fake = Faker()\n",
    "name = []\n",
    "id = []\n",
    "street = []\n",
    "city = []\n",
    "zip = []\n",
    "for i in range(5):\n",
    "    name.append(fake.name())\n",
    "    id.append(i)\n",
    "    street.append(fake.street_address())\n",
    "    city.append(fake.city())\n",
    "    zip.append(fake.zipcode())\n"
   ]
  },
  {
   "cell_type": "code",
   "execution_count": 74,
   "metadata": {},
   "outputs": [
    {
     "name": "stdout",
     "output_type": "stream",
     "text": [
      "Message: b'{\"name\":{\"0\":\"Michelle King\",\"1\":\"Tamara Woods\",\"2\":\"Mr. Charles Daniels\",\"3\":\"Mrs. Stacy Cooper\",\"4\":\"Patrick James\"},\"id\":{\"0\":0,\"1\":1,\"2\":2,\"3\":3,\"4\":4},\"street\":{\"0\":\"597 Kristy Trail\",\"1\":\"652 Doyle Mountain\",\"2\":\"95607 Kelly Drive\",\"3\":\"237 Anthony Port\",\"4\":\"5640 Jacqueline Falls\"},\"city\":{\"0\":\"East Lori\",\"1\":\"Stephenland\",\"2\":\"Clarkhaven\",\"3\":\"Lake Randy\",\"4\":\"Woodardmouth\"},\"zip\":{\"0\":\"73454\",\"1\":\"02746\",\"2\":\"59115\",\"3\":\"63841\",\"4\":\"22461\"}}'\n",
      "Message: b'{\"name\":{\"0\":\"Michelle King\",\"1\":\"Tamara Woods\",\"2\":\"Mr. Charles Daniels\",\"3\":\"Mrs. Stacy Cooper\",\"4\":\"Patrick James\"},\"id\":{\"0\":0,\"1\":1,\"2\":2,\"3\":3,\"4\":4},\"street\":{\"0\":\"597 Kristy Trail\",\"1\":\"652 Doyle Mountain\",\"2\":\"95607 Kelly Drive\",\"3\":\"237 Anthony Port\",\"4\":\"5640 Jacqueline Falls\"},\"city\":{\"0\":\"East Lori\",\"1\":\"Stephenland\",\"2\":\"Clarkhaven\",\"3\":\"Lake Randy\",\"4\":\"Woodardmouth\"},\"zip\":{\"0\":\"73454\",\"1\":\"02746\",\"2\":\"59115\",\"3\":\"63841\",\"4\":\"22461\"}}'\n"
     ]
    },
    {
     "data": {
      "text/plain": [
       "0"
      ]
     },
     "execution_count": 74,
     "metadata": {},
     "output_type": "execute_result"
    }
   ],
   "source": [
    "df = pd.DataFrame({'name':name,'id':id,'street':street,'city':city,'zip':zip})\n",
    "p.poll(0)\n",
    "p.produce('dataEngineering',df.to_json(),callback=receipt)\n",
    "p.flush()"
   ]
  },
  {
   "cell_type": "code",
   "execution_count": 81,
   "metadata": {},
   "outputs": [
    {
     "ename": "AttributeError",
     "evalue": "'dict' object has no attribute 'topics'",
     "output_type": "error",
     "traceback": [
      "\u001b[0;31m---------------------------------------------------------------------------\u001b[0m",
      "\u001b[0;31mAttributeError\u001b[0m                            Traceback (most recent call last)",
      "\u001b[0;32m/var/folders/jl/0hp406v12rn91f04k5hcw9qm0000gn/T/ipykernel_12506/280811037.py\u001b[0m in \u001b[0;36m<module>\u001b[0;34m\u001b[0m\n\u001b[1;32m      4\u001b[0m })\n\u001b[1;32m      5\u001b[0m \u001b[0mc\u001b[0m\u001b[0;34m.\u001b[0m\u001b[0mlist_topics\u001b[0m\u001b[0;34m(\u001b[0m\u001b[0;34m)\u001b[0m\u001b[0;34m.\u001b[0m\u001b[0mtopics\u001b[0m\u001b[0;34m\u001b[0m\u001b[0;34m\u001b[0m\u001b[0m\n\u001b[0;32m----> 6\u001b[0;31m \u001b[0mc\u001b[0m\u001b[0;34m.\u001b[0m\u001b[0mlist_topics\u001b[0m\u001b[0;34m(\u001b[0m\u001b[0;34m)\u001b[0m\u001b[0;34m.\u001b[0m\u001b[0mtopics\u001b[0m\u001b[0;34m.\u001b[0m\u001b[0mtopics\u001b[0m\u001b[0;34m[\u001b[0m\u001b[0;34m'dataEngineering'\u001b[0m\u001b[0;34m]\u001b[0m\u001b[0;34m.\u001b[0m\u001b[0mpartitions\u001b[0m\u001b[0;34m\u001b[0m\u001b[0;34m\u001b[0m\u001b[0m\n\u001b[0m",
      "\u001b[0;31mAttributeError\u001b[0m: 'dict' object has no attribute 'topics'"
     ]
    }
   ],
   "source": [
    "c = Consumer({\n",
    "    'bootstrap.servers':'localhost:9092,localhost:9093,localhost:9094',\n",
    "    'group.id':'py-consumer', 'auto.offset.reset':'earliest'\n",
    "})\n",
    "c.list_topics().topics\n",
    "c.list_topics().topics.topics['dataEngineering'].partitions"
   ]
  }
 ],
 "metadata": {
  "interpreter": {
   "hash": "7497c63ff532d7aa56218976ab1aba6ca4f66652e5b564389743121bf3873fe1"
  },
  "kernelspec": {
   "display_name": "Python 3.9.7 64-bit ('base': conda)",
   "language": "python",
   "name": "python3"
  },
  "language_info": {
   "codemirror_mode": {
    "name": "ipython",
    "version": 3
   },
   "file_extension": ".py",
   "mimetype": "text/x-python",
   "name": "python",
   "nbconvert_exporter": "python",
   "pygments_lexer": "ipython3",
   "version": "3.9.7"
  },
  "orig_nbformat": 4
 },
 "nbformat": 4,
 "nbformat_minor": 2
}
