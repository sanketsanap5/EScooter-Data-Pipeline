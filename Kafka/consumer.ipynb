{
 "cells": [
  {
   "cell_type": "code",
   "execution_count": 2,
   "metadata": {},
   "outputs": [],
   "source": [
    "from confluent_kafka import Consumer"
   ]
  },
  {
   "cell_type": "code",
   "execution_count": 12,
   "metadata": {},
   "outputs": [
    {
     "name": "stdout",
     "output_type": "stream",
     "text": [
      "{'dataEngineering': TopicMetadata(dataEngineering, 1 partitions), '__consumer_offsets': TopicMetadata(__consumer_offsets, 50 partitions)}\n"
     ]
    }
   ],
   "source": [
    "c = Consumer({\n",
    "    'bootstrap.servers':'localhost:9092,localhost:9093,localhost:9094',\n",
    "    'group.id':'py-consumer', 'auto.offset.reset':'earliest'\n",
    "})\n",
    "print(c.list_topics().topics)\n",
    "c.subscribe(['dataEngineering'])"
   ]
  },
  {
   "cell_type": "code",
   "execution_count": 13,
   "metadata": {},
   "outputs": [
    {
     "name": "stdout",
     "output_type": "stream",
     "text": [
      "b'{\"name\":{\"0\":\"Kimberly Hunter\",\"1\":\"Elizabeth Chambers\",\"2\":\"Tammy Martin\",\"3\":\"William Zimmerman\",\"4\":\"Timothy Dillon\"},\"id\":{\"0\":0,\"1\":1,\"2\":2,\"3\":3,\"4\":4},\"street\":{\"0\":\"931 Erin Street\",\"1\":\"98304 Peter Underpass\",\"2\":\"5954 Ortiz Walks Apt. 166\",\"3\":\"7845 Peters Plaza\",\"4\":\"71866 Lori Rest\"},\"city\":{\"0\":\"Williamsbury\",\"1\":\"Lake Monicahaven\",\"2\":\"Martinezberg\",\"3\":\"East Justinberg\",\"4\":\"New Nicholasbury\"},\"zip\":{\"0\":\"73911\",\"1\":\"39174\",\"2\":\"63228\",\"3\":\"55064\",\"4\":\"57584\"}}'\n",
      "b'{\"name\":{\"0\":\"Kimberly Hunter\",\"1\":\"Elizabeth Chambers\",\"2\":\"Tammy Martin\",\"3\":\"William Zimmerman\",\"4\":\"Timothy Dillon\"},\"id\":{\"0\":0,\"1\":1,\"2\":2,\"3\":3,\"4\":4},\"street\":{\"0\":\"931 Erin Street\",\"1\":\"98304 Peter Underpass\",\"2\":\"5954 Ortiz Walks Apt. 166\",\"3\":\"7845 Peters Plaza\",\"4\":\"71866 Lori Rest\"},\"city\":{\"0\":\"Williamsbury\",\"1\":\"Lake Monicahaven\",\"2\":\"Martinezberg\",\"3\":\"East Justinberg\",\"4\":\"New Nicholasbury\"},\"zip\":{\"0\":\"73911\",\"1\":\"39174\",\"2\":\"63228\",\"3\":\"55064\",\"4\":\"57584\"}}'\n",
      "b'{\"name\":{\"0\":\"Dawn Davis\",\"1\":\"Jessica Lane\",\"2\":\"Patrick Simon\",\"3\":\"Cindy Hood\",\"4\":\"Jessica Douglas\"},\"id\":{\"0\":0,\"1\":1,\"2\":2,\"3\":3,\"4\":4},\"street\":{\"0\":\"17025 Grimes Circles\",\"1\":\"35091 Johnson Summit\",\"2\":\"137 Kathy Fork Suite 129\",\"3\":\"603 Dana Burg\",\"4\":\"049 Michael Valleys Apt. 578\"},\"city\":{\"0\":\"Jennaburgh\",\"1\":\"Hahnstad\",\"2\":\"West Richard\",\"3\":\"East Jeffreyside\",\"4\":\"Robertside\"},\"zip\":{\"0\":\"61157\",\"1\":\"70456\",\"2\":\"04662\",\"3\":\"43002\",\"4\":\"10461\"}}'\n"
     ]
    },
    {
     "ename": "KeyboardInterrupt",
     "evalue": "",
     "output_type": "error",
     "traceback": [
      "\u001b[0;31m---------------------------------------------------------------------------\u001b[0m",
      "\u001b[0;31mKeyboardInterrupt\u001b[0m                         Traceback (most recent call last)",
      "\u001b[0;32m/var/folders/jl/0hp406v12rn91f04k5hcw9qm0000gn/T/ipykernel_13203/3012296079.py\u001b[0m in \u001b[0;36m<module>\u001b[0;34m\u001b[0m\n\u001b[1;32m      1\u001b[0m \u001b[0;32mwhile\u001b[0m \u001b[0;32mTrue\u001b[0m\u001b[0;34m:\u001b[0m\u001b[0;34m\u001b[0m\u001b[0;34m\u001b[0m\u001b[0m\n\u001b[0;32m----> 2\u001b[0;31m     \u001b[0mmsg\u001b[0m \u001b[0;34m=\u001b[0m \u001b[0mc\u001b[0m\u001b[0;34m.\u001b[0m\u001b[0mpoll\u001b[0m\u001b[0;34m(\u001b[0m\u001b[0;36m1.0\u001b[0m\u001b[0;34m)\u001b[0m \u001b[0;31m#Timeout\u001b[0m\u001b[0;34m\u001b[0m\u001b[0;34m\u001b[0m\u001b[0m\n\u001b[0m\u001b[1;32m      3\u001b[0m \u001b[0;34m\u001b[0m\u001b[0m\n\u001b[1;32m      4\u001b[0m     \u001b[0;32mif\u001b[0m \u001b[0mmsg\u001b[0m \u001b[0;32mis\u001b[0m \u001b[0;32mNone\u001b[0m\u001b[0;34m:\u001b[0m\u001b[0;34m\u001b[0m\u001b[0;34m\u001b[0m\u001b[0m\n\u001b[1;32m      5\u001b[0m         \u001b[0;32mcontinue\u001b[0m\u001b[0;34m\u001b[0m\u001b[0;34m\u001b[0m\u001b[0m\n",
      "\u001b[0;31mKeyboardInterrupt\u001b[0m: "
     ]
    }
   ],
   "source": [
    "while True:\n",
    "    msg = c.poll(1.0) #Timeout\n",
    "\n",
    "    if msg is None:\n",
    "        continue\n",
    "    if msg.error():\n",
    "        print('Error: {}'.format(msg.error()))\n",
    "        continue\n",
    "\n",
    "    data = msg.value()\n",
    "    print(data)\n",
    "c.close()"
   ]
  }
 ],
 "metadata": {
  "interpreter": {
   "hash": "7497c63ff532d7aa56218976ab1aba6ca4f66652e5b564389743121bf3873fe1"
  },
  "kernelspec": {
   "display_name": "Python 3.9.7 64-bit ('base': conda)",
   "language": "python",
   "name": "python3"
  },
  "language_info": {
   "codemirror_mode": {
    "name": "ipython",
    "version": 3
   },
   "file_extension": ".py",
   "mimetype": "text/x-python",
   "name": "python",
   "nbconvert_exporter": "python",
   "pygments_lexer": "ipython3",
   "version": "3.9.7"
  },
  "orig_nbformat": 4
 },
 "nbformat": 4,
 "nbformat_minor": 2
}
