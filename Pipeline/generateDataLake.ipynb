{
 "cells": [
  {
   "cell_type": "code",
   "execution_count": 174,
   "metadata": {},
   "outputs": [],
   "source": [
    "import pandas as pd\n",
    "import os\n",
    "from faker import Faker\n",
    "\n",
    "baseDir = '/Users/Sanket/Documents/GitHub/Real-Time-Data-Pipeline'\n",
    "userDataDir = baseDir + '/output/userData/'\n",
    "fake = Faker()"
   ]
  },
  {
   "cell_type": "code",
   "execution_count": 160,
   "metadata": {},
   "outputs": [],
   "source": [
    "if not os.path.exists(userDataDir):\n",
    "    os.mkdir(userDataDir)\n",
    "for i in range(1,10001):\n",
    "    data = {\n",
    "        'name':fake.name(),\n",
    "        'id':i,\n",
    "        'street':fake.street_address(),\n",
    "        'city':fake.city(),\n",
    "        'zip':fake.zipcode()\n",
    "    }\n",
    "    df = pd.DataFrame([data])\n",
    "    df.to_json(userDataDir+str(data['id'])+'.json')"
   ]
  },
  {
   "cell_type": "code",
   "execution_count": 156,
   "metadata": {},
   "outputs": [
    {
     "name": "stdout",
     "output_type": "stream",
     "text": [
      "Found 9389 Records In Data Lake \n"
     ]
    }
   ],
   "source": [
    "userDF = pd.DataFrame()\n",
    "\n",
    "fileNames = [x for x in os.listdir(userDataDir) if x.endswith('.json')]\n",
    "for name in fileNames:\n",
    "    df = pd.read_json(userDataDir+name)\n",
    "    userDF = userDF.append(other=df,ignore_index=True)\n",
    "print('Found {} Records In Data Lake '.format(userDF.id.count()))\n"
   ]
  },
  {
   "cell_type": "code",
   "execution_count": 153,
   "metadata": {},
   "outputs": [
    {
     "name": "stdout",
     "output_type": "stream",
     "text": [
      "duplicate key value violates unique constraint \"users_pkey\"\n",
      "DETAIL:  Key (id)=(4581) already exists.\n",
      "\n"
     ]
    }
   ],
   "source": [
    "import psycopg2 as db\n",
    "\n",
    "conn_string = \"dbname='test' host='localhost' user='postgres' password='postgres'\"\n",
    "try:\n",
    "    conn = db.connect(conn_string)\n",
    "    cur = conn.cursor()\n",
    "    query = \"insert into users (name,id,street,city,zip) values(%s,%s,%s,%s,%s)\"\n",
    "    #print(cur.mogrify(query,tuple(userDF.values)))\n",
    "    cur.executemany(query,userDF.values)\n",
    "    print(conn.commit())\n",
    "except Exception as e:\n",
    "    print(str(e))"
   ]
  },
  {
   "cell_type": "code",
   "execution_count": 166,
   "metadata": {},
   "outputs": [
    {
     "data": {
      "text/html": [
       "<div>\n",
       "<style scoped>\n",
       "    .dataframe tbody tr th:only-of-type {\n",
       "        vertical-align: middle;\n",
       "    }\n",
       "\n",
       "    .dataframe tbody tr th {\n",
       "        vertical-align: top;\n",
       "    }\n",
       "\n",
       "    .dataframe thead th {\n",
       "        text-align: right;\n",
       "    }\n",
       "</style>\n",
       "<table border=\"1\" class=\"dataframe\">\n",
       "  <thead>\n",
       "    <tr style=\"text-align: right;\">\n",
       "      <th></th>\n",
       "      <th>count</th>\n",
       "    </tr>\n",
       "  </thead>\n",
       "  <tbody>\n",
       "    <tr>\n",
       "      <th>0</th>\n",
       "      <td>0</td>\n",
       "    </tr>\n",
       "  </tbody>\n",
       "</table>\n",
       "</div>"
      ],
      "text/plain": [
       "   count\n",
       "0      0"
      ]
     },
     "execution_count": 166,
     "metadata": {},
     "output_type": "execute_result"
    }
   ],
   "source": [
    "pd.read_sql('select count(*) from users;',conn)"
   ]
  },
  {
   "cell_type": "code",
   "execution_count": 167,
   "metadata": {},
   "outputs": [],
   "source": [
    "cur.execute('truncate table users;')\n",
    "conn.commit()"
   ]
  },
  {
   "cell_type": "code",
   "execution_count": 89,
   "metadata": {},
   "outputs": [
    {
     "name": "stdout",
     "output_type": "stream",
     "text": [
      "Found 28167 Records In Data Lake \n",
      "Inserting 28167 Records In Staging DB\n"
     ]
    }
   ],
   "source": [
    "userDF.id.count()\n",
    "print('Found {} Records In Data Lake '.format(userDF.id.count()))\n",
    "print('Inserting {} Records In Staging DB'.format(userDF.id.count()))\n"
   ]
  },
  {
   "cell_type": "code",
   "execution_count": 172,
   "metadata": {},
   "outputs": [
    {
     "data": {
      "text/html": [
       "<div>\n",
       "<style scoped>\n",
       "    .dataframe tbody tr th:only-of-type {\n",
       "        vertical-align: middle;\n",
       "    }\n",
       "\n",
       "    .dataframe tbody tr th {\n",
       "        vertical-align: top;\n",
       "    }\n",
       "\n",
       "    .dataframe thead th {\n",
       "        text-align: right;\n",
       "    }\n",
       "</style>\n",
       "<table border=\"1\" class=\"dataframe\">\n",
       "  <thead>\n",
       "    <tr style=\"text-align: right;\">\n",
       "      <th></th>\n",
       "      <th>name</th>\n",
       "      <th>id</th>\n",
       "      <th>street</th>\n",
       "      <th>city</th>\n",
       "      <th>zip</th>\n",
       "    </tr>\n",
       "  </thead>\n",
       "  <tbody>\n",
       "  </tbody>\n",
       "</table>\n",
       "</div>"
      ],
      "text/plain": [
       "Empty DataFrame\n",
       "Columns: [name, id, street, city, zip]\n",
       "Index: []"
      ]
     },
     "execution_count": 172,
     "metadata": {},
     "output_type": "execute_result"
    }
   ],
   "source": [
    "#conn.rollback()\n",
    "userDF[userDF['id']==3721]\n",
    "\n"
   ]
  },
  {
   "cell_type": "code",
   "execution_count": 171,
   "metadata": {},
   "outputs": [],
   "source": [
    "userDF.drop(5620,inplace=True)"
   ]
  },
  {
   "cell_type": "code",
   "execution_count": 181,
   "metadata": {},
   "outputs": [],
   "source": [
    "fileNames = [x for x in os.listdir(userDataDir) if x.endswith('.json')]\n",
    "for name in fileNames:\n",
    "    if os.path.exists(name):\n",
    "        os.remove(name)\n",
    "\n",
    "\n"
   ]
  }
 ],
 "metadata": {
  "interpreter": {
   "hash": "7497c63ff532d7aa56218976ab1aba6ca4f66652e5b564389743121bf3873fe1"
  },
  "kernelspec": {
   "display_name": "Python 3.9.7 64-bit ('base': conda)",
   "language": "python",
   "name": "python3"
  },
  "language_info": {
   "codemirror_mode": {
    "name": "ipython",
    "version": 3
   },
   "file_extension": ".py",
   "mimetype": "text/x-python",
   "name": "python",
   "nbconvert_exporter": "python",
   "pygments_lexer": "ipython3",
   "version": "3.9.7"
  },
  "orig_nbformat": 4
 },
 "nbformat": 4,
 "nbformat_minor": 2
}
